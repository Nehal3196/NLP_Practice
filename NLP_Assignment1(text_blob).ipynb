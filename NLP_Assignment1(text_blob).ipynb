{
 "cells": [
  {
   "cell_type": "markdown",
   "metadata": {},
   "source": [
    "# NLP - Assignment 1(TextBlob) "
   ]
  },
  {
   "cell_type": "code",
   "execution_count": 1,
   "metadata": {},
   "outputs": [
    {
     "name": "stdout",
     "output_type": "stream",
     "text": [
      "[('Susie', 'NNP'), ('works', 'VBZ'), ('in', 'IN'), ('a', 'DT'), ('shoeshine', 'NN'), ('shop', 'NN'), ('Where', 'WRB'), ('she', 'PRP'), ('shines', 'VBZ'), ('she', 'PRP'), ('sits', 'VBZ'), ('and', 'CC'), ('where', 'WRB'), ('she', 'PRP'), ('sits', 'VBZ'), ('she', 'PRP'), ('shines', 'NNS')]\n"
     ]
    }
   ],
   "source": [
    "\"\"\"\n",
    "**Question 1.** Write a python program using Textblob in which find out the parts-of-speech(pos) tagging \n",
    "from the following sentence.\n",
    "\n",
    "\"Susie works in a shoeshine shop. Where she shines she sits, and where she sits she shines\"\n",
    "\"\"\"\n",
    "\n",
    "from textblob import TextBlob\n",
    "\n",
    "def pos_tags(text):\n",
    "    txt_blb = TextBlob(text)\n",
    "    return txt_blb.tags\n",
    "\n",
    "x = pos_tags(\"Susie works in a shoeshine shop. Where she shines she sits, and where she sits she shines\")\n",
    "print(x)"
   ]
  },
  {
   "cell_type": "code",
   "execution_count": 2,
   "metadata": {},
   "outputs": [
    {
     "name": "stdout",
     "output_type": "stream",
     "text": [
      "4\n"
     ]
    }
   ],
   "source": [
    "\"\"\"\n",
    "**Question 2.** Write a python program using the textblob to find out the count of the common words from the following sentence.\n",
    "\n",
    "\"How much wood would a woodchuck chuck if a woodchuck could chuck wood?\n",
    "He would chuck, he would, as much as he could, and chuck as much wood\n",
    "As a woodchuck would if a woodchuck could chuck wood\"\n",
    "\n",
    "Find it out how many times 'wood' came in the sentence.\n",
    "\"\"\"\n",
    "\n",
    "def word_count(text,word):\n",
    "    a = TextBlob(text)\n",
    "    return a.words.count(word)\n",
    "\n",
    "text = \"\"\"How much wood would a woodchuck chuck if a woodchuck could chuck wood? \n",
    "He would chuck, he would, as much as he could, and chuck as much wood \n",
    "As a woodchuck would if a woodchuck could chuck wood\"\"\"\n",
    "\n",
    "x = word_count(text,'wood')\n",
    "print(x)"
   ]
  },
  {
   "cell_type": "code",
   "execution_count": 44,
   "metadata": {},
   "outputs": [
    {
     "name": "stdout",
     "output_type": "stream",
     "text": [
      "डेटा एक नया तेल है।\n",
      "A.I est la dernière invention\n",
      "انها تبيع الصدف من شاطئ البحر\n",
      "Izbacio je tri slobodna bacanja\n"
     ]
    }
   ],
   "source": [
    "\"\"\"\n",
    "**Question 3.** Translate the following sentences in your own language using the textblob.\n",
    "\n",
    "\"Data is a new oil.\", \"A.I is the last invention\", \"She sells seashells by the seashore\", \"He threw three free throws\".\n",
    "\"\"\"\n",
    "\n",
    "def translate_text(txt,lang):\n",
    "    a = TextBlob(txt)\n",
    "    return a.translate(to = lang)\n",
    "\n",
    "#Translating to hindi\n",
    "x = translate_text(\"Data is a new oil.\",'hi')\n",
    "print(x)\n",
    "\n",
    "#Translating to french\n",
    "y = translate_text(\"A.I is the last invention\",'fr')\n",
    "print(y)\n",
    "\n",
    "#Translating to Arabic\n",
    "z = translate_text(\"She sells seashells by the seashore\",'ar')\n",
    "print(z)\n",
    "\n",
    "#Translating to russian\n",
    "u = translate_text(\"He threw three free throws\",'hr')\n",
    "print(u)"
   ]
  },
  {
   "cell_type": "code",
   "execution_count": 41,
   "metadata": {},
   "outputs": [
    {
     "name": "stdout",
     "output_type": "stream",
     "text": [
      " Once you know all the elements , it ’ s not difficult to pull together a sentence .\n"
     ]
    }
   ],
   "source": [
    "\"\"\"\n",
    "**Question 4.** Create a spell checker program using the textblob library with using your own sentences.\n",
    "\"\"\"\n",
    "import nltk\n",
    "from textblob import Word\n",
    "def spell_check(text):\n",
    "    txt = nltk.word_tokenize(text)\n",
    "    out = ''\n",
    "    for i in txt:\n",
    "        c = Word(i)\n",
    "        d = c.spellcheck() #This gives all probable words \n",
    "        d.sort(reverse=True) #Picking the most probable word, i.e., with highest probablity\n",
    "        out = out + \" \" + d[0][0] \n",
    "    return out\n",
    "\n",
    "x = spell_check(\"Once yuo know all the elemnts, it’s not dificult to pull togther a sentenc.\")\n",
    "print(x)"
   ]
  },
  {
   "cell_type": "code",
   "execution_count": null,
   "metadata": {},
   "outputs": [],
   "source": []
  }
 ],
 "metadata": {
  "kernelspec": {
   "display_name": "Python 3",
   "language": "python",
   "name": "python3"
  },
  "language_info": {
   "codemirror_mode": {
    "name": "ipython",
    "version": 3
   },
   "file_extension": ".py",
   "mimetype": "text/x-python",
   "name": "python",
   "nbconvert_exporter": "python",
   "pygments_lexer": "ipython3",
   "version": "3.8.3"
  }
 },
 "nbformat": 4,
 "nbformat_minor": 4
}
